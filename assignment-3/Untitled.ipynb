{
 "cells": [
  {
   "cell_type": "code",
   "execution_count": 18,
   "id": "4d9fc5ef-1a7d-4e01-a56c-ba7fa32f39c0",
   "metadata": {},
   "outputs": [],
   "source": [
    "class parent():\n",
    "    def p(self):\n",
    "        print(\"parent\")\n",
    "class child1(parent):\n",
    "    def p(self):\n",
    "        print(\"child1\")\n",
    "class child2(parent):\n",
    "    def p(self):\n",
    "        print(\"child2\")\n",
    "class child3():\n",
    "    def p(self):\n",
    "        print(\"child3\")        "
   ]
  },
  {
   "cell_type": "code",
   "execution_count": 19,
   "id": "a689a055-1a30-4c0e-84ed-5d4c55f228ac",
   "metadata": {},
   "outputs": [
    {
     "name": "stdout",
     "output_type": "stream",
     "text": [
      "child3\n"
     ]
    }
   ],
   "source": [
    "obj = child3()\n",
    "obj.p()"
   ]
  },
  {
   "cell_type": "code",
   "execution_count": null,
   "id": "00e8092e-aaa8-4129-b9e1-96707a1a0cfd",
   "metadata": {},
   "outputs": [],
   "source": []
  }
 ],
 "metadata": {
  "kernelspec": {
   "display_name": "Python 3 (ipykernel)",
   "language": "python",
   "name": "python3"
  },
  "language_info": {
   "codemirror_mode": {
    "name": "ipython",
    "version": 3
   },
   "file_extension": ".py",
   "mimetype": "text/x-python",
   "name": "python",
   "nbconvert_exporter": "python",
   "pygments_lexer": "ipython3",
   "version": "3.13.5"
  }
 },
 "nbformat": 4,
 "nbformat_minor": 5
}
