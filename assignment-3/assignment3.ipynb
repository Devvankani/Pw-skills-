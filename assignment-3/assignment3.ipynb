{
 "cells": [
  {
   "cell_type": "code",
   "execution_count": 18,
   "id": "ae5da096-8b0c-490d-b8a8-c961f5f40889",
   "metadata": {},
   "outputs": [
    {
     "name": "stdin",
     "output_type": "stream",
     "text": [
      " 1 4 5 7 9 5 3 8 45 54\n"
     ]
    },
    {
     "name": "stdout",
     "output_type": "stream",
     "text": [
      "[4, 8, 54]\n"
     ]
    }
   ],
   "source": [
    "#1.  Write a Python function that takes a list of numbers as input and returns the sum of all even numbers in the list\n",
    "evenlist = []\n",
    "def even(l1):\n",
    "    for item in l1:\n",
    "        if item.isdigit():\n",
    "            num = int(item)\n",
    "            if num %2 == 0:\n",
    "                evenlist.append(num)                                        \n",
    "        else:\n",
    "            print(f\" This {item} is Not An Digit\" )\n",
    "    return print(evenlist)        \n",
    "\n",
    "nums = input().split()\n",
    "even(nums)"
   ]
  },
  {
   "cell_type": "code",
   "execution_count": 22,
   "id": "92e80c11-a2a8-4d0a-8885-78e7416f1bde",
   "metadata": {},
   "outputs": [
    {
     "name": "stdin",
     "output_type": "stream",
     "text": [
      "Enter String savam Raj Dev\n"
     ]
    },
    {
     "name": "stdout",
     "output_type": "stream",
     "text": [
      "Original string :  savam Raj Dev\n",
      "Reversed String :  veD jaR mavas\n"
     ]
    }
   ],
   "source": [
    "#2. Create a Python function that accepts a string and returns the reverse of that string.\n",
    "def strev(s1):\n",
    "    print(\"Original string : \",s1)\n",
    "    print(\"Reversed String : \",s1[::-1])\n",
    "\n",
    "str1 = input(\"Enter String\")\n",
    "strev(str1)\n"
   ]
  },
  {
   "cell_type": "code",
   "execution_count": 24,
   "id": "d003e274-88c3-4822-8055-ba79aa76333d",
   "metadata": {},
   "outputs": [
    {
     "name": "stdin",
     "output_type": "stream",
     "text": [
      "  2 4 5 10 5 8 7\n"
     ]
    },
    {
     "name": "stdout",
     "output_type": "stream",
     "text": [
      "[4, 16, 25, 100, 25, 64, 49]\n"
     ]
    }
   ],
   "source": [
    "#3. Implement a Python function that takes a list of integers and returns a new list containing the squares of each number\n",
    "\n",
    "def squrt(l1):\n",
    "    sqli = []\n",
    "    for i in l1:\n",
    "        item = int(i)\n",
    "        sqli.append(item*item)\n",
    "    print(sqli)    \n",
    "        \n",
    "\n",
    "nums = input().split()\n",
    "squrt(nums)\n"
   ]
  },
  {
   "cell_type": "code",
   "execution_count": 5,
   "id": "790cc17e-7c53-46f9-b50a-fe44358bfd20",
   "metadata": {},
   "outputs": [
    {
     "name": "stdout",
     "output_type": "stream",
     "text": [
      "2\n",
      "3\n",
      "5\n",
      "7\n",
      "11\n",
      "13\n",
      "17\n",
      "19\n",
      "23\n",
      "29\n",
      "31\n",
      "37\n",
      "41\n",
      "43\n",
      "47\n",
      "53\n",
      "59\n",
      "61\n",
      "67\n",
      "71\n",
      "73\n",
      "79\n",
      "83\n",
      "89\n",
      "97\n",
      "101\n",
      "103\n",
      "107\n",
      "109\n",
      "113\n",
      "127\n",
      "131\n",
      "137\n",
      "139\n",
      "149\n",
      "151\n",
      "157\n",
      "163\n",
      "167\n",
      "173\n",
      "179\n",
      "181\n",
      "191\n",
      "193\n",
      "197\n",
      "199\n"
     ]
    }
   ],
   "source": [
    "#4. Write a Python function that checks if a given number is prime or not from 1 to 200\n",
    "def prime(num):\n",
    "\n",
    "    for n in range(2,num + 1):\n",
    "        primenum = True\n",
    "        for i in range(2,n):\n",
    "            if n % i ==0:\n",
    "                primenum =False\n",
    "                \n",
    "                break\n",
    "        if primenum:\n",
    "            print(n)\n",
    "\n",
    "\n",
    "num = 200\n",
    "prime(num)"
   ]
  },
  {
   "cell_type": "code",
   "execution_count": 17,
   "id": "5b836181-bb99-4666-b47e-f604a89a8f89",
   "metadata": {},
   "outputs": [
    {
     "name": "stdout",
     "output_type": "stream",
     "text": [
      "0 1 1 2 3 5 8 13 21 34 "
     ]
    }
   ],
   "source": [
    "#5.Create an iterator class in Python that generates the Fibonacci sequence up to a specified number of terms\n",
    "\n",
    "def febo(n):\n",
    "    a, b = 0, 1\n",
    "    for i in range(n):\n",
    "        print(a, end = ' ')\n",
    "        a, b = b, a + b\n",
    "\n",
    "febo(10)"
   ]
  },
  {
   "cell_type": "code",
   "execution_count": 3,
   "id": "ae5ff1f4-932a-416f-9e6d-d015496aedbc",
   "metadata": {},
   "outputs": [
    {
     "data": {
      "text/plain": [
       "1"
      ]
     },
     "execution_count": 3,
     "metadata": {},
     "output_type": "execute_result"
    }
   ],
   "source": [
    "#6. Write a generator function in Python that yields the powers of 2 up to a given exponent.\n",
    "def power_gen(n):\n",
    "    for i in range(n+1):\n",
    "        yield 2**i\n",
    "\n",
    "gen = power_gen(5)\n",
    "next(gen)   # upto as ur wish \n"
   ]
  },
  {
   "cell_type": "code",
   "execution_count": null,
   "id": "e83a9e2c-06f2-415b-8258-97b534f9ba53",
   "metadata": {},
   "outputs": [],
   "source": [
    "#7. "
   ]
  },
  {
   "cell_type": "code",
   "execution_count": 6,
   "id": "0d6628d8-4b35-4102-8e5c-2f144d400faf",
   "metadata": {},
   "outputs": [
    {
     "data": {
      "text/plain": [
       "[(4, 1), (3, 2), (1, 3), (2, 4)]"
      ]
     },
     "execution_count": 6,
     "metadata": {},
     "output_type": "execute_result"
    }
   ],
   "source": [
    "#8. . Use a lambda function in Python to sort a list of tuples based on the second element of each tuple.\n",
    "t1 = [(1,3) , (4,1), (2,4),(3,2)]\n",
    "sorted_tuples = sorted(t1, key=lambda t: t[1])\n",
    "sorted_tuples"
   ]
  },
  {
   "cell_type": "code",
   "execution_count": 6,
   "id": "84d32919-f755-439b-9ff0-8372cbdd78c6",
   "metadata": {},
   "outputs": [
    {
     "data": {
      "text/plain": [
       "['27.78', '30.56', '32.78', '36.67', '38.89']"
      ]
     },
     "execution_count": 6,
     "metadata": {},
     "output_type": "execute_result"
    }
   ],
   "source": [
    "#9. Write a Python program that uses `map()` to convert a list of temperatures from Celsius to Fahrenheit\n",
    "f1 = [82,87,91,98,102]\n",
    "c = list(map(lambda f: format((f-32) * 5 / 9 , \".2f\"),f1 ))\n",
    "c"
   ]
  },
  {
   "cell_type": "code",
   "execution_count": 12,
   "id": "77567a3a-49ae-4479-9d76-bf8b3d74ab43",
   "metadata": {},
   "outputs": [
    {
     "data": {
      "text/plain": [
       "['D', 'v', 'h', 'j', 'd', 'g', 'h', 'y']"
      ]
     },
     "execution_count": 12,
     "metadata": {},
     "output_type": "execute_result"
    }
   ],
   "source": [
    "#10. Create a Python program that uses `filter()` to remove all the vowels from a given string\n",
    "str1 = \"Devaeiohjdghy\"\n",
    "vowels = \"AEIOUaeio\"\n",
    "\n",
    "ans = list(filter(lambda s1: s1 not in vowels ,str1))\n",
    "ans"
   ]
  },
  {
   "cell_type": "code",
   "execution_count": 12,
   "id": "cf21a21b-5dc1-47fa-8778-eb9c98173cb8",
   "metadata": {},
   "outputs": [
    {
     "name": "stdout",
     "output_type": "stream",
     "text": [
      "[(34587, 163.8), (98762, 66.8), (77226, 108.85), (88112, 34.99)]\n"
     ]
    }
   ],
   "source": [
    "'''11) Imagine an accounting routine used in a book shop. It works on a list with sublists, which look like this:\n",
    " Write a Python program, which returns a list with 2-tuples. Each tuple consists of the order number and the \n",
    "product of the price per item and the quantity. The product should be increased by 10,- € if the value of the \n",
    "order is smaller than 100,00 €.\n",
    " Write a Python program using lambda and map'''\n",
    "\n",
    "\n",
    "orders = [\n",
    "    [34587, \"Learning Python\", \"Mark Lutz\", 40.95, 4],\n",
    "    [98762, \"Programming Python\", \"Mark Lutz\", 56.80, 1],\n",
    "    [77226, \"Head First Python\", \"Paul Barry\", 32.95, 3],\n",
    "    [88112, \"Einführung in Python3\", \"Bernd Klein\", 24.99, 1],\n",
    "]\n",
    "\n",
    "add_surcharge = lambda total: total if total >= 100 else total + 10\n",
    "\n",
    "result = list(map(\n",
    "    lambda row: (\n",
    "        row[0],\n",
    "        round(add_surcharge(float(row[-2]) * int(row[-1])), 2)\n",
    "    ),\n",
    "    orders\n",
    "))\n",
    "\n",
    "print(result)"
   ]
  }
 ],
 "metadata": {
  "kernelspec": {
   "display_name": "Python 3 (ipykernel)",
   "language": "python",
   "name": "python3"
  },
  "language_info": {
   "codemirror_mode": {
    "name": "ipython",
    "version": 3
   },
   "file_extension": ".py",
   "mimetype": "text/x-python",
   "name": "python",
   "nbconvert_exporter": "python",
   "pygments_lexer": "ipython3",
   "version": "3.13.5"
  }
 },
 "nbformat": 4,
 "nbformat_minor": 5
}
