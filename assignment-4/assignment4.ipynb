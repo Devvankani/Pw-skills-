{
 "cells": [
  {
   "cell_type": "code",
   "execution_count": 8,
   "id": "0c27671e-c1ba-43d2-984b-26f338ac8e81",
   "metadata": {},
   "outputs": [],
   "source": [
    "#1. Create a parent class Animal with a method speak() that prints a generic message.\n",
    "#Create a child class Dog that overrides the speak() method to print \"Bark!\"\n",
    "class Animal:\n",
    "    def speck(self):\n",
    "        print(\"animal voice\")\n",
    "\n",
    "class dog(Animal):\n",
    "    def speck(self):\n",
    "        print(\"Bark\")"
   ]
  },
  {
   "cell_type": "code",
   "execution_count": 9,
   "id": "289ed6dc-e621-4bd3-a239-a306676d95db",
   "metadata": {},
   "outputs": [
    {
     "name": "stdout",
     "output_type": "stream",
     "text": [
      "Bark\n"
     ]
    }
   ],
   "source": [
    "obj = dog()\n",
    "obj.speck()"
   ]
  },
  {
   "cell_type": "code",
   "execution_count": 5,
   "id": "4e3c091c-8eb5-442b-962d-cd50f2f4c86a",
   "metadata": {},
   "outputs": [],
   "source": [
    "#2. Write a program to create an abstract class Shape with a method area(). \n",
    "#Derive classes Circle and Rectangle from it and implement the area() method in both.\n",
    "from abc import ABC, abstractmethod\n",
    "class shape:\n",
    "\n",
    "    @abstractmethod\n",
    "    def area(self):\n",
    "        pass\n",
    "        \n",
    "class circle(shape):\n",
    "    \n",
    "    def __init__(self,redius):\n",
    "        self.redius = redius\n",
    "        \n",
    "    def area(self):\n",
    "        area = 3.14 * self.redius * self.redius\n",
    "        print(\"Area of Circle is : \",area)\n",
    "        \n",
    "class rectangle(shape):\n",
    "    \n",
    "    def __init__(self,length,width):\n",
    "        self.length = length\n",
    "        self.width = width\n",
    "        \n",
    "    def area(self):\n",
    "        ans = self.length*  self.width\n",
    "        print(\"Area of Reactangle is :\",ans)        \n",
    "        "
   ]
  },
  {
   "cell_type": "code",
   "execution_count": 22,
   "id": "fc386342-88bc-4a41-aae9-71d20ebba4b8",
   "metadata": {},
   "outputs": [
    {
     "name": "stdout",
     "output_type": "stream",
     "text": [
      "Area of Circle is :  78.5\n"
     ]
    }
   ],
   "source": [
    "c = circle(5)\n",
    "c.area()"
   ]
  },
  {
   "cell_type": "code",
   "execution_count": 24,
   "id": "ff43db79-a7f8-422c-bed2-13e65f122419",
   "metadata": {},
   "outputs": [
    {
     "name": "stdout",
     "output_type": "stream",
     "text": [
      "Area of Reactangle is : 24\n"
     ]
    }
   ],
   "source": [
    "r = rectangle(4, 6)\n",
    "r.area()    "
   ]
  },
  {
   "cell_type": "code",
   "execution_count": 11,
   "id": "5557e80c-40c4-4007-b4ca-e54f74589fca",
   "metadata": {},
   "outputs": [],
   "source": [
    "#3.  Implement a multi-level inheritance scenario where a class Vehicle has an attribute type. Derive a class Car \n",
    "#and further derive a class ElectricCar that adds a battery attribute\n",
    "\n",
    "class vehical:\n",
    "    def __init__(self,v_type):\n",
    "        self.v_type = v_type\n",
    "\n",
    "\n",
    "class car(vehical):\n",
    "    def __init__(self,brand,v_type='car'):\n",
    "        super().__init__(v_type)\n",
    "        self.brand = brand\n",
    "\n",
    "\n",
    "class Evcar(car):\n",
    "     def __init__(self,brand,battary):\n",
    "        super().__init__(brand)\n",
    "        self.battary = battary\n",
    "\n",
    "\n",
    "    \n",
    "    "
   ]
  },
  {
   "cell_type": "code",
   "execution_count": 14,
   "id": "e34259e9-afcc-47f5-bfff-04093d58d0ea",
   "metadata": {},
   "outputs": [
    {
     "name": "stdout",
     "output_type": "stream",
     "text": [
      "car Tesla 200kwh\n"
     ]
    }
   ],
   "source": [
    "e1 =  Evcar(\"Tesla\",\"200kwh\")\n",
    "print(e1.v_type,e1.brand,e1.battary)"
   ]
  },
  {
   "cell_type": "code",
   "execution_count": 20,
   "id": "9d5d300b-1d3e-4f73-84dd-9c82f9ef6461",
   "metadata": {},
   "outputs": [],
   "source": [
    "#4. Demonstrate polymorphism by creating a base class Bird with a method fly(). Create two derived classes \n",
    "# Sparrow and Penguin that override the fly() method. \n",
    "\n",
    "class bird:\n",
    "    def fly(self):\n",
    "        print(\"Bird is Flying\")\n",
    "\n",
    "class Sparrow(bird):\n",
    "    def fly(self):\n",
    "        print(\"Sparrow is Flying\")\n",
    "\n",
    "class Penguin(bird):\n",
    "    def fly(self):\n",
    "        print(\"Penguin can not fly\")        "
   ]
  },
  {
   "cell_type": "code",
   "execution_count": 21,
   "id": "257ed8bb-4f39-40ed-8334-6eaf33adc07f",
   "metadata": {},
   "outputs": [
    {
     "name": "stdout",
     "output_type": "stream",
     "text": [
      "Penguin can not fly\n"
     ]
    }
   ],
   "source": [
    "obj1  = Penguin()\n",
    "obj1.fly()"
   ]
  },
  {
   "cell_type": "code",
   "execution_count": 22,
   "id": "48ef2e45-1d7a-4cac-af51-e7edd3caf822",
   "metadata": {},
   "outputs": [
    {
     "name": "stdout",
     "output_type": "stream",
     "text": [
      "Sparrow is Flying\n"
     ]
    }
   ],
   "source": [
    "obj1  = Sparrow()\n",
    "obj1.fly()"
   ]
  },
  {
   "cell_type": "code",
   "execution_count": 23,
   "id": "6ca4d432-1404-4da3-852a-12b1670e77fb",
   "metadata": {},
   "outputs": [
    {
     "name": "stdout",
     "output_type": "stream",
     "text": [
      "Bird is Flying\n"
     ]
    }
   ],
   "source": [
    "obj1  = bird()\n",
    "obj1.fly()"
   ]
  },
  {
   "cell_type": "code",
   "execution_count": 56,
   "id": "f0875c92-1037-4d19-833d-d56993fe5ec9",
   "metadata": {},
   "outputs": [],
   "source": [
    "#5.Write a program to demonstrate encapsulation by creating a class BankAccount with private attributes \n",
    "#balance and methods to deposit, withdraw, and check balance\n",
    "\n",
    "class bankacc:\n",
    "    def __init__(self,bal = 0):\n",
    "        self.__bal = bal\n",
    "\n",
    "    def deposit(self,amt):\n",
    "        self.__bal += amt\n",
    "      \n",
    "    def withdraw(self,amt):\n",
    "        if amt <= self.__bal:\n",
    "            self.__bal -= amt\n",
    "        else:\n",
    "            print(\"Insufficient balance\")\n",
    "\n",
    "    def check_bal(self):\n",
    "        return self.__bal\n",
    "      "
   ]
  },
  {
   "cell_type": "code",
   "execution_count": 57,
   "id": "d38c9360-dfb5-4b58-8636-5482f3facdd8",
   "metadata": {},
   "outputs": [],
   "source": [
    "obj1 = bankacc()\n",
    "obj1.deposit(1000)"
   ]
  },
  {
   "cell_type": "code",
   "execution_count": 58,
   "id": "874180d1-193d-491c-aab1-409110b174e6",
   "metadata": {},
   "outputs": [
    {
     "data": {
      "text/plain": [
       "1000"
      ]
     },
     "execution_count": 58,
     "metadata": {},
     "output_type": "execute_result"
    }
   ],
   "source": [
    "obj1.check_bal()"
   ]
  },
  {
   "cell_type": "code",
   "execution_count": 59,
   "id": "00aac863-4185-4710-b7ac-2c6aebfc0e2e",
   "metadata": {},
   "outputs": [],
   "source": [
    "obj1.withdraw(500)"
   ]
  },
  {
   "cell_type": "code",
   "execution_count": 60,
   "id": "69821d0a-4fc6-47a9-aeea-da52f60b59f8",
   "metadata": {},
   "outputs": [
    {
     "data": {
      "text/plain": [
       "500"
      ]
     },
     "execution_count": 60,
     "metadata": {},
     "output_type": "execute_result"
    }
   ],
   "source": [
    "obj1.check_bal()"
   ]
  },
  {
   "cell_type": "code",
   "execution_count": 61,
   "id": "ac6367f7-d4a6-480b-a358-6507c08f0e61",
   "metadata": {},
   "outputs": [],
   "source": [
    "#6. Demonstrate runtime polymorphism using a method play() in a base class Instrument. Derive classes Guitar \n",
    "#and Piano that implement their own version of play().\n",
    "\n",
    "class Instrument:\n",
    "    def play(self):\n",
    "        print(\"Playing an instrument.\")\n",
    "\n",
    "class Guitar(Instrument):\n",
    "    def play(self):\n",
    "        print(\"Strumming the guitar!\")\n",
    "\n",
    "class Piano(Instrument):\n",
    "    def play(self):\n",
    "        print(\"Playing the piano!\")"
   ]
  },
  {
   "cell_type": "code",
   "execution_count": 63,
   "id": "c385b6dc-498b-46d8-a564-023b97aa8591",
   "metadata": {},
   "outputs": [
    {
     "name": "stdout",
     "output_type": "stream",
     "text": [
      "Playing the piano!\n"
     ]
    }
   ],
   "source": [
    "obj1 = Piano()\n",
    "obj1.play()"
   ]
  },
  {
   "cell_type": "code",
   "execution_count": 65,
   "id": "9b6aefe2-1e4b-4309-90d7-8585bf4bf675",
   "metadata": {},
   "outputs": [
    {
     "name": "stdout",
     "output_type": "stream",
     "text": [
      "Strumming the guitar!\n"
     ]
    }
   ],
   "source": [
    "obj2 = Guitar()\n",
    "obj2.play()"
   ]
  },
  {
   "cell_type": "code",
   "execution_count": 66,
   "id": "a83aa3df-c13f-4d4f-b56e-352da454a6e8",
   "metadata": {},
   "outputs": [
    {
     "name": "stdout",
     "output_type": "stream",
     "text": [
      "8\n",
      "6\n"
     ]
    }
   ],
   "source": [
    "#7. Create a class MathOperations with a class method add_numbers() to add two numbers and a static \n",
    "#method subtract_numbers() to subtract two numbers.\n",
    "class MathOperations:\n",
    "    @classmethod\n",
    "    def add_numbers(cls, a, b):\n",
    "        return a + b\n",
    "\n",
    "    @staticmethod\n",
    "    def subtract_numbers(a, b):\n",
    "        return a - b\n",
    "\n",
    "print(MathOperations.add_numbers(5, 3))\n",
    "print(MathOperations.subtract_numbers(10, 4))"
   ]
  },
  {
   "cell_type": "code",
   "execution_count": 67,
   "id": "e5d8b3b5-4556-4204-829d-1380375db1ed",
   "metadata": {},
   "outputs": [
    {
     "name": "stdout",
     "output_type": "stream",
     "text": [
      "Total Persons: 2\n"
     ]
    }
   ],
   "source": [
    "#8.mplement a class Person with a class method to count the total number of persons created.\n",
    "class Person:\n",
    "    count = 0\n",
    "\n",
    "    def __init__(self, name):\n",
    "        self.name = name\n",
    "        Person.count += 1\n",
    "\n",
    "    @classmethod\n",
    "    def total_persons(cls):\n",
    "        return cls.count\n",
    "\n",
    "p1 = Person(\"Alice\")\n",
    "p2 = Person(\"Bob\")\n",
    "print(\"Total Persons:\", Person.total_persons())\n"
   ]
  },
  {
   "cell_type": "code",
   "execution_count": 68,
   "id": "bf64077b-8f16-46ee-859a-f9e0c42977df",
   "metadata": {},
   "outputs": [
    {
     "name": "stdout",
     "output_type": "stream",
     "text": [
      "3/4\n",
      "7/2\n"
     ]
    }
   ],
   "source": [
    "#9.Write a class Fraction with attributes numerator and denominator.\n",
    "#Override the str method to display the fraction as \"numerator/denominator\".\n",
    "\n",
    "class Fraction:\n",
    "    def __init__(self, numerator, denominator):\n",
    "        self.numerator = numerator\n",
    "        self.denominator = denominator\n",
    "\n",
    "    def __str__(self):\n",
    "        return f\"{self.numerator}/{self.denominator}\"\n",
    "\n",
    "\n",
    "# Example usage\n",
    "f1 = Fraction(3, 4)\n",
    "f2 = Fraction(7, 2)\n",
    "\n",
    "print(f1)  # Output: 3/4\n",
    "print(f2)  # Output: 7/2\n"
   ]
  },
  {
   "cell_type": "code",
   "execution_count": 69,
   "id": "df880d7f-e099-40a6-9c94-d5480d2ab788",
   "metadata": {},
   "outputs": [
    {
     "name": "stdout",
     "output_type": "stream",
     "text": [
      "(6, 8)\n"
     ]
    }
   ],
   "source": [
    "#10. Demonstrate operator overloading by creating a class Vector and overriding the add method to add two vectors.\n",
    "\n",
    "class Vector:\n",
    "    def __init__(self, x, y):\n",
    "        self.x, self.y = x, y\n",
    "\n",
    "    def __add__(self, other):\n",
    "        return Vector(self.x + other.x, self.y + other.y)\n",
    "\n",
    "    def __str__(self):\n",
    "        return f\"({self.x}, {self.y})\"\n",
    "\n",
    "v1 = Vector(2, 3)\n",
    "v2 = Vector(4, 5)\n",
    "print(v1 + v2)\n"
   ]
  },
  {
   "cell_type": "code",
   "execution_count": 72,
   "id": "561edaf8-dcf2-4c79-8bd6-8a4bb0c7c232",
   "metadata": {},
   "outputs": [
    {
     "name": "stdout",
     "output_type": "stream",
     "text": [
      "Hello, my name is Johnny and I am 21 years old.\n"
     ]
    }
   ],
   "source": [
    "#11. Create a class Person with attributes name and age.\n",
    "#Add a method greet() that prints \"Hello, my name is {name} and I am {age} years old.\"\n",
    "class Person:\n",
    "    def __init__(self, name, age):\n",
    "        self.name, self.age = name, age\n",
    "\n",
    "    def greet(self):\n",
    "        print(f\"Hello, my name is {self.name} and I am {self.age} years old.\")\n",
    "\n",
    "p = Person(\"Johnny\", 21)\n",
    "p.greet()"
   ]
  },
  {
   "cell_type": "code",
   "execution_count": 81,
   "id": "962dc516-4150-42a8-8b43-8726a0b0b24b",
   "metadata": {},
   "outputs": [
    {
     "name": "stdout",
     "output_type": "stream",
     "text": [
      "Average Grade: 84.33\n"
     ]
    }
   ],
   "source": [
    "#12. Implement a class Student with attributes name and grades.\n",
    "#Create a method average_grade() to compute the average of the grades.\n",
    "class Student:\n",
    "    def __init__(self, name, grades):\n",
    "        self.name = name\n",
    "        self.grades = grades\n",
    "\n",
    "    def average_grade(self):\n",
    "        return \"{:.2f}\".format(sum(self.grades) / len(self.grades))\n",
    "\n",
    "s = Student(\"Alice\", [85, 90, 78])\n",
    "print(\"Average Grade:\", s.average_grade())"
   ]
  },
  {
   "cell_type": "code",
   "execution_count": 82,
   "id": "509827c8-cd94-414f-9970-ef39254ec9f5",
   "metadata": {},
   "outputs": [
    {
     "name": "stdout",
     "output_type": "stream",
     "text": [
      "Area: 15\n"
     ]
    }
   ],
   "source": [
    "#13.Create a class Rectangle with methods set_dimensions() to set the dimensions and area() to calculate the area.\n",
    "class Rectangle:\n",
    "    def set_dimensions(self, length, width):\n",
    "        self.length, self.width = length, width\n",
    "\n",
    "    def area(self):\n",
    "        return self.length * self.width\n",
    "\n",
    "r = Rectangle()\n",
    "r.set_dimensions(5, 3)\n",
    "print(\"Area:\", r.area())"
   ]
  },
  {
   "cell_type": "code",
   "execution_count": 83,
   "id": "73e189d1-ece8-4e42-ad3d-91adc91158ff",
   "metadata": {},
   "outputs": [
    {
     "name": "stdout",
     "output_type": "stream",
     "text": [
      "Manager Salary: 1300\n"
     ]
    }
   ],
   "source": [
    "#14.Create a class Employee with a method calculate_salary() that computes the salary based on hours worked and hourly rate. \n",
    "#Create a derived class Manager that adds a bonus to the salary\n",
    "\n",
    "class Employee:\n",
    "    def __init__(self, hours, rate):\n",
    "        self.hours, self.rate = hours, rate\n",
    "\n",
    "    def calculate_salary(self):\n",
    "        return self.hours * self.rate\n",
    "\n",
    "class Manager(Employee):\n",
    "    def __init__(self, hours, rate, bonus):\n",
    "        super().__init__(hours, rate)\n",
    "        self.bonus = bonus\n",
    "\n",
    "    def calculate_salary(self):\n",
    "        return super().calculate_salary() + self.bonus\n",
    "\n",
    "m = Manager(40, 20, 500)\n",
    "print(\"Manager Salary:\", m.calculate_salary())"
   ]
  },
  {
   "cell_type": "code",
   "execution_count": 85,
   "id": "b3998dd5-09ba-4437-80ab-88b5b097711b",
   "metadata": {},
   "outputs": [
    {
     "name": "stdout",
     "output_type": "stream",
     "text": [
      "Total Price: 100000\n"
     ]
    }
   ],
   "source": [
    "#15. Create a class Product with attributes name, price, and quantity. Implement a method total_price() that \n",
    "#calculates the total price of the product\n",
    "class Product:\n",
    "    def __init__(self, name, price, quantity):\n",
    "        self.name, self.price, self.quantity = name, price, quantity\n",
    "\n",
    "    def total_price(self):\n",
    "        return self.price * self.quantity\n",
    "\n",
    "p = Product(\"Laptop\", 50000, 2)\n",
    "print(\"Total Price:\", p.total_price())\n"
   ]
  },
  {
   "cell_type": "code",
   "execution_count": 86,
   "id": "6b5fdef7-5ff5-4ab2-9169-3e668be04d55",
   "metadata": {},
   "outputs": [
    {
     "name": "stdout",
     "output_type": "stream",
     "text": [
      "Moo\n",
      "Baa\n"
     ]
    }
   ],
   "source": [
    "#16.Create a class Animal with an abstract method sound(). \n",
    "#Create two derived classes Cow and Sheep that implement the sound() method.\n",
    "from abc import ABC, abstractmethod\n",
    "\n",
    "class Animal(ABC):\n",
    "    @abstractmethod\n",
    "    def sound(self):\n",
    "        pass\n",
    "\n",
    "class Cow(Animal):\n",
    "    def sound(self):\n",
    "        return \"Moo\"\n",
    "\n",
    "class Sheep(Animal):\n",
    "    def sound(self):\n",
    "        return \"Baa\"\n",
    "\n",
    "for animal in [Cow(), Sheep()]:\n",
    "    print(animal.sound())\n"
   ]
  },
  {
   "cell_type": "code",
   "execution_count": 87,
   "id": "76766bdb-7cce-43d0-976a-27ed44d18340",
   "metadata": {},
   "outputs": [
    {
     "name": "stdout",
     "output_type": "stream",
     "text": [
      "1984 by George Orwell, published in 1949\n"
     ]
    }
   ],
   "source": [
    "#17.Create a class Book with attributes title, author, and year_published. \n",
    "#Add a method get_book_info() that returns a formatted string with the book's details.\n",
    "class Book:\n",
    "    def __init__(self, title, author, year):\n",
    "        self.title, self.author, self.year = title, author, year\n",
    "\n",
    "    def get_book_info(self):\n",
    "        return f\"{self.title} by {self.author}, published in {self.year}\"\n",
    "\n",
    "b = Book(\"1984\", \"George Orwell\", 1949)\n",
    "print(b.get_book_info())"
   ]
  },
  {
   "cell_type": "code",
   "execution_count": 88,
   "id": "88e4ba99-d749-42b1-8f76-5260574478ed",
   "metadata": {},
   "outputs": [
    {
     "name": "stdout",
     "output_type": "stream",
     "text": [
      "123 Street 500000 10\n"
     ]
    }
   ],
   "source": [
    "#18.Create a class House with attributes address and price.\n",
    "#Create a derived class Mansion that adds an attribute number_of_rooms.\n",
    "class House:\n",
    "    def __init__(self, address, price):\n",
    "        self.address, self.price = address, price\n",
    "\n",
    "class Mansion(House):\n",
    "    def __init__(self, address, price, rooms):\n",
    "        super().__init__(address, price)\n",
    "        self.rooms = rooms\n",
    "\n",
    "m = Mansion(\"123 Street\", 500000, 10)\n",
    "print(m.address, m.price, m.rooms)"
   ]
  },
  {
   "cell_type": "code",
   "execution_count": null,
   "id": "46309a79-58b4-4df8-803b-90c90c44181a",
   "metadata": {},
   "outputs": [],
   "source": []
  }
 ],
 "metadata": {
  "kernelspec": {
   "display_name": "Python 3 (ipykernel)",
   "language": "python",
   "name": "python3"
  },
  "language_info": {
   "codemirror_mode": {
    "name": "ipython",
    "version": 3
   },
   "file_extension": ".py",
   "mimetype": "text/x-python",
   "name": "python",
   "nbconvert_exporter": "python",
   "pygments_lexer": "ipython3",
   "version": "3.13.5"
  }
 },
 "nbformat": 4,
 "nbformat_minor": 5
}
