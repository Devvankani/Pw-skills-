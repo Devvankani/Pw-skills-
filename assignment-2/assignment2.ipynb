{
 "cells": [
  {
   "cell_type": "code",
   "execution_count": 3,
   "id": "f46512b5-3c80-46f2-84db-b3a7c378828e",
   "metadata": {},
   "outputs": [
    {
     "name": "stdin",
     "output_type": "stream",
     "text": [
      "Enter Your Namw : Dev\n"
     ]
    },
    {
     "name": "stdout",
     "output_type": "stream",
     "text": [
      "Welcome Dev\n"
     ]
    }
   ],
   "source": [
    "#1. Write a code to create a string with your name and print it\n",
    "name = input(\"Enter Your Namw :\")\n",
    "\n",
    "print(\"Welcome\" +\" \" + name)"
   ]
  },
  {
   "cell_type": "code",
   "execution_count": 5,
   "id": "8aac02ff-0418-4806-a0ac-9d4044724559",
   "metadata": {},
   "outputs": [
    {
     "data": {
      "text/plain": [
       "11"
      ]
     },
     "execution_count": 5,
     "metadata": {},
     "output_type": "execute_result"
    }
   ],
   "source": [
    "#2. Write a code to find the length of the string \"Hello World\"\n",
    "length = len(\"Hello World\")\n",
    "length"
   ]
  },
  {
   "cell_type": "code",
   "execution_count": 8,
   "id": "a2ee91e6-0067-4e52-9120-a0a9e2b65d2b",
   "metadata": {},
   "outputs": [
    {
     "data": {
      "text/plain": [
       "'Pyt'"
      ]
     },
     "execution_count": 8,
     "metadata": {},
     "output_type": "execute_result"
    }
   ],
   "source": [
    "#3.Write a code to slice the first 3 characters from the string \"Python Programming\"\n",
    "word = \"Python Programming\"\n",
    "word[:3]\n"
   ]
  },
  {
   "cell_type": "code",
   "execution_count": 6,
   "id": "2c28225f-2fb0-4452-ac1f-024e03486efb",
   "metadata": {},
   "outputs": [
    {
     "data": {
      "text/plain": [
       "'HELLO'"
      ]
     },
     "execution_count": 6,
     "metadata": {},
     "output_type": "execute_result"
    }
   ],
   "source": [
    "#4. Write a code to convert the string \"hello\" to uppercase\n",
    "word = \"hello\"\n",
    "word.upper()"
   ]
  },
  {
   "cell_type": "code",
   "execution_count": 11,
   "id": "b32ed960-f817-4702-9878-c16a5c53b879",
   "metadata": {},
   "outputs": [
    {
     "data": {
      "text/plain": [
       "'I like orange'"
      ]
     },
     "execution_count": 11,
     "metadata": {},
     "output_type": "execute_result"
    }
   ],
   "source": [
    "#5. Write a code to replace the word \"apple\" with \"orange\" in the string \"I like apple\"\n",
    "word = \"I like apple\"\n",
    "word.replace(\"apple\",\"orange\")"
   ]
  },
  {
   "cell_type": "code",
   "execution_count": 14,
   "id": "4967aadb-0b67-4fe2-9197-e9f24f2fc2ca",
   "metadata": {},
   "outputs": [
    {
     "name": "stdout",
     "output_type": "stream",
     "text": [
      "1\n",
      "2\n",
      "3\n",
      "4\n",
      "5\n"
     ]
    }
   ],
   "source": [
    "#6. Write a code to create a list with numbers 1 to 5 and print it\n",
    "l1 = [1,2,3,4,5]\n",
    "for i in l1:\n",
    "    print(i)"
   ]
  },
  {
   "cell_type": "code",
   "execution_count": 17,
   "id": "21bfbacb-6843-4689-b603-380fef89a76a",
   "metadata": {},
   "outputs": [
    {
     "data": {
      "text/plain": [
       "[1, 2, 3, 4, 10]"
      ]
     },
     "execution_count": 17,
     "metadata": {},
     "output_type": "execute_result"
    }
   ],
   "source": [
    "#7. Write a code to append the number 10 to the list [1, 2, 3, 4]\n",
    "l1 = [1,2,3,4]\n",
    "l1.append(10)\n",
    "l1"
   ]
  },
  {
   "cell_type": "code",
   "execution_count": 23,
   "id": "b7488072-dba6-4b4f-9b6b-b7b19f431951",
   "metadata": {},
   "outputs": [
    {
     "data": {
      "text/plain": [
       "[1, 2, 4]"
      ]
     },
     "execution_count": 23,
     "metadata": {},
     "output_type": "execute_result"
    }
   ],
   "source": [
    "#8. Write a code to remove the number 3 from the list [1, 2, 3, 4, 5]\n",
    "l1 = [1,2,3,4]\n",
    "l1.remove(3)\n",
    "l1"
   ]
  },
  {
   "cell_type": "code",
   "execution_count": 29,
   "id": "a41a886f-4c9c-4ce7-b311-66fc9a4d4a63",
   "metadata": {},
   "outputs": [
    {
     "data": {
      "text/plain": [
       "'b'"
      ]
     },
     "execution_count": 29,
     "metadata": {},
     "output_type": "execute_result"
    }
   ],
   "source": [
    "#9. Write a code to access the second element in the list ['a', 'b', 'c', 'd']\n",
    "l1 = ['a','b','c','d']\n",
    "l1[1]"
   ]
  },
  {
   "cell_type": "code",
   "execution_count": 30,
   "id": "ecf06425-dd36-4efd-beac-a8a563ee35bf",
   "metadata": {},
   "outputs": [
    {
     "data": {
      "text/plain": [
       "[50, 40, 30, 20, 10]"
      ]
     },
     "execution_count": 30,
     "metadata": {},
     "output_type": "execute_result"
    }
   ],
   "source": [
    "#10.  Write a code to reverse the list [10, 20, 30, 40, 50].\n",
    "l1 = [10, 20, 30, 40, 50]\n",
    "l1 [::-1]"
   ]
  },
  {
   "cell_type": "code",
   "execution_count": 31,
   "id": "bd3853d8-0d3b-433d-a1f1-25ad7864a0ce",
   "metadata": {},
   "outputs": [
    {
     "data": {
      "text/plain": [
       "(100, 200, 300)"
      ]
     },
     "execution_count": 31,
     "metadata": {},
     "output_type": "execute_result"
    }
   ],
   "source": [
    "#11. Write a code to create a tuple with the elements 100, 200, 300 and print it.\n",
    "t1 = (100,200,300)\n",
    "t1"
   ]
  },
  {
   "cell_type": "code",
   "execution_count": 32,
   "id": "853fe807-2a98-460e-8dea-82a29cabb57a",
   "metadata": {},
   "outputs": [
    {
     "data": {
      "text/plain": [
       "'blue'"
      ]
     },
     "execution_count": 32,
     "metadata": {},
     "output_type": "execute_result"
    }
   ],
   "source": [
    "#12. Write a code to access the second-to-last element of the tuple ('red', 'green', 'blue', 'yellow').\n",
    "t1 = ('red', 'green', 'blue', 'yellow')\n",
    "t1[-2]"
   ]
  },
  {
   "cell_type": "code",
   "execution_count": 33,
   "id": "5191288b-a2df-4fea-801a-129ae389d272",
   "metadata": {},
   "outputs": [
    {
     "data": {
      "text/plain": [
       "20"
      ]
     },
     "execution_count": 33,
     "metadata": {},
     "output_type": "execute_result"
    }
   ],
   "source": [
    "#13. Write a code to find the minimum number in the tuple (10, 20, 5, 15).\n",
    "t1 =(10,20,5,15)\n",
    "max(t1)"
   ]
  },
  {
   "cell_type": "code",
   "execution_count": 35,
   "id": "59181bd5-2a83-45db-9ef7-7e0f6a751564",
   "metadata": {},
   "outputs": [
    {
     "data": {
      "text/plain": [
       "1"
      ]
     },
     "execution_count": 35,
     "metadata": {},
     "output_type": "execute_result"
    }
   ],
   "source": [
    "#14. Write a code to find the index of the element \"cat\" in the tuple ('dog', 'cat', 'rabbit').\n",
    "t1 = ('dog','cat','rabbit')\n",
    "t1.index('cat')"
   ]
  },
  {
   "cell_type": "code",
   "execution_count": 42,
   "id": "7d6beac6-3fae-4fab-9af2-e2e76b3be7dc",
   "metadata": {},
   "outputs": [
    {
     "name": "stdout",
     "output_type": "stream",
     "text": [
      "yes kiwi found on index = 2\n"
     ]
    }
   ],
   "source": [
    "#15.  Write a code to create a tuple containing three different fruits and check if \"kiwi\" is in it.\n",
    "f1 = ('apple','banna','kiwi')\n",
    "if \"kiwi\" in f1:\n",
    "    print(f\"yes kiwi found on index = {f1.index(\"kiwi\")}\")    #i made more advanced using f string and more ui friendly "
   ]
  },
  {
   "cell_type": "code",
   "execution_count": 1,
   "id": "77b9b4a0-bfeb-480c-ae44-63626fdf5182",
   "metadata": {},
   "outputs": [
    {
     "data": {
      "text/plain": [
       "{'a', 'b', 'c'}"
      ]
     },
     "execution_count": 1,
     "metadata": {},
     "output_type": "execute_result"
    }
   ],
   "source": [
    "#16. Write a code to create a set with the elements 'a', 'b', 'c' and print it.\n",
    "s1 = {'a','b','c','a','c'}\n",
    "s1"
   ]
  },
  {
   "cell_type": "code",
   "execution_count": 2,
   "id": "be9d8b7c-e13a-4383-a6f1-24fd818fc55c",
   "metadata": {},
   "outputs": [
    {
     "data": {
      "text/plain": [
       "set()"
      ]
     },
     "execution_count": 2,
     "metadata": {},
     "output_type": "execute_result"
    }
   ],
   "source": [
    "#17. Write a code to clear all elements from the set {1, 2, 3, 4, 5}.\n",
    "s1 =  {1, 2, 3, 4, 5}\n",
    "s1.clear()\n",
    "s1"
   ]
  },
  {
   "cell_type": "code",
   "execution_count": 3,
   "id": "d70d686b-b1d4-4f0a-ad56-b9b82c9ca210",
   "metadata": {},
   "outputs": [
    {
     "data": {
      "text/plain": [
       "{1, 2, 3, 5}"
      ]
     },
     "execution_count": 3,
     "metadata": {},
     "output_type": "execute_result"
    }
   ],
   "source": [
    "#18.  Write a code to remove the element 4 from the set {1, 2, 3, 4}.\n",
    "s1 =  {1, 2, 3, 4, 5}\n",
    "s1.remove(4)\n",
    "s1"
   ]
  },
  {
   "cell_type": "code",
   "execution_count": 5,
   "id": "1222ee47-36c4-4b6f-8e87-1467658a2b6c",
   "metadata": {},
   "outputs": [
    {
     "data": {
      "text/plain": [
       "{1, 2, 3, 4, 5}"
      ]
     },
     "execution_count": 5,
     "metadata": {},
     "output_type": "execute_result"
    }
   ],
   "source": [
    "#19. Write a code to find the union of two sets {1, 2, 3} and {3, 4, 5}\n",
    "s1 = {1, 2, 3}\n",
    "s2 = {3, 4, 5}\n",
    "u = s1.union(s2)\n",
    "u"
   ]
  },
  {
   "cell_type": "code",
   "execution_count": 8,
   "id": "38a582d3-5b05-4a7d-9aa6-825206e037f8",
   "metadata": {},
   "outputs": [
    {
     "data": {
      "text/plain": [
       "{3}"
      ]
     },
     "execution_count": 8,
     "metadata": {},
     "output_type": "execute_result"
    }
   ],
   "source": [
    "#20. Write a code to find the intersection of two sets {1, 2, 3} and {2, 3, 4}.\n",
    "s1 = {1, 2, 3}\n",
    "s2 = {3, 4, 5}\n",
    "i = s1.intersection(s2)\n",
    "i"
   ]
  },
  {
   "cell_type": "code",
   "execution_count": 11,
   "id": "45c47351-62a7-45ca-a06d-c4a3fe75deea",
   "metadata": {},
   "outputs": [
    {
     "data": {
      "text/plain": [
       "{'name': 'Jonny', 'agw': 21, 'city': 'Los angles'}"
      ]
     },
     "execution_count": 11,
     "metadata": {},
     "output_type": "execute_result"
    }
   ],
   "source": [
    "#21. Write a code to create a dictionary with the keys \"name\", \"age\", and \"city\", and print it.\n",
    "d1 = {'name':'Jonny' , \"agw\":21 , 'city':'Los angles'}\n",
    "d1"
   ]
  },
  {
   "cell_type": "code",
   "execution_count": 13,
   "id": "9001f2c7-cdef-4c10-970e-3955863eb83d",
   "metadata": {},
   "outputs": [
    {
     "data": {
      "text/plain": [
       "{'name': 'Jonny', 'agw': 21, 'city': 'Los angles', 'country': 'USA'}"
      ]
     },
     "execution_count": 13,
     "metadata": {},
     "output_type": "execute_result"
    }
   ],
   "source": [
    "#22. Write a code to add a new key-value pair \"country\": \"USA\" to the dictionary {'name': 'John', 'age': 25}\n",
    "d1 = {'name':'Jonny' , \"agw\":21 , 'city':'Los angles'}\n",
    "d1\n",
    "d1['country'] = 'USA'\n",
    "d1"
   ]
  },
  {
   "cell_type": "code",
   "execution_count": 14,
   "id": "30923957-e52f-4071-9de8-6b956e456dc6",
   "metadata": {},
   "outputs": [
    {
     "data": {
      "text/plain": [
       "'Jonny'"
      ]
     },
     "execution_count": 14,
     "metadata": {},
     "output_type": "execute_result"
    }
   ],
   "source": [
    "#23. Write a code to access the value associated with the key \"name\" in the dictionary {'name': 'Alice', 'age': 30}\n",
    "d1 = {'name':'Jonny' , \"agw\":21 , 'city':'Los angles'}\n",
    "d1['name']"
   ]
  },
  {
   "cell_type": "code",
   "execution_count": 18,
   "id": "414a6da9-02a9-4e4c-82a4-7c6823958754",
   "metadata": {},
   "outputs": [
    {
     "data": {
      "text/plain": [
       "{'name': 'Bob', 'city': 'New York'}"
      ]
     },
     "execution_count": 18,
     "metadata": {},
     "output_type": "execute_result"
    }
   ],
   "source": [
    "#24. Write a code to remove the key \"age\" from the dictionary {'name': 'Bob', 'age': 22, 'city': 'New York'}.\n",
    "d1 = {'name': 'Bob', 'age': 22, 'city': 'New York'}\n",
    "d1.pop('age')\n",
    "d1"
   ]
  },
  {
   "cell_type": "code",
   "execution_count": 21,
   "id": "b5817c9b-51cf-4967-b155-798f93896f4e",
   "metadata": {},
   "outputs": [
    {
     "name": "stdout",
     "output_type": "stream",
     "text": [
      "Yes\n"
     ]
    }
   ],
   "source": [
    "#25.  Write a code to check if the key \"city\" exists in the dictionary {'name': 'Alice', 'city': 'Paris'}.\n",
    "d1 =  {'name': 'Alice', 'city': 'Paris'}\n",
    "if 'city' in d1:\n",
    "    print(\"Yes\")\n"
   ]
  },
  {
   "cell_type": "code",
   "execution_count": 23,
   "id": "81e082bb-d416-4326-962c-e2d3af14ad6a",
   "metadata": {},
   "outputs": [
    {
     "name": "stdout",
     "output_type": "stream",
     "text": [
      "This is List ['dev', 21, True]\n",
      "This is Tuple ('hi', 21, 'nancy', 3)\n",
      "This is dictionary {'name': 'Alice', 'city': 'Paris'}\n"
     ]
    }
   ],
   "source": [
    "#26 .  Write a code to create a list, a tuple, and a dictionary, and print them all.\n",
    "l1 = [\"dev\",21,True]\n",
    "t1 = ('hi',21,'nancy',3)\n",
    "d1 =  {'name': 'Alice', 'city': 'Paris'}\n",
    "\n",
    "print(\"This is List\",l1)\n",
    "print(\"This is Tuple\",t1)\n",
    "print(\"This is dictionary\",d1)"
   ]
  },
  {
   "cell_type": "code",
   "execution_count": 26,
   "id": "198981f9-f19f-4681-b9e8-0e26e51c711a",
   "metadata": {},
   "outputs": [
    {
     "name": "stdout",
     "output_type": "stream",
     "text": [
      "Before [45, 55, 31, 32, 12]\n",
      "After [12, 31, 32, 45, 55]\n"
     ]
    }
   ],
   "source": [
    "#27.  Write a code to create a list of 5 random numbers between 1 and 100, sort it in ascending order, and print the result.(replaced)\n",
    "l1 = [45,55,31,32,12]\n",
    "print(\"Before\",l1)\n",
    "l1.sort()  #\n",
    "print(\"After\",l1)"
   ]
  },
  {
   "cell_type": "code",
   "execution_count": 28,
   "id": "a5938023-b668-4305-9465-99e5cffbf7e2",
   "metadata": {},
   "outputs": [
    {
     "data": {
      "text/plain": [
       "'mogambo'"
      ]
     },
     "execution_count": 28,
     "metadata": {},
     "output_type": "execute_result"
    }
   ],
   "source": [
    "#28.  Write a code to create a list with strings and print the element at the third index.\n",
    "l1= ['Dev','alice','nusso','mogambo','khusnuma']\n",
    "l1[3]"
   ]
  },
  {
   "cell_type": "code",
   "execution_count": 34,
   "id": "bb77aeab-5965-471c-9200-2477dd4044dc",
   "metadata": {},
   "outputs": [
    {
     "name": "stdout",
     "output_type": "stream",
     "text": [
      "{'a': 1, 'b': 2, 'c': 3, 'd': 4}\n"
     ]
    }
   ],
   "source": [
    "#29. Write a code to combine two dictionaries into one and print the result\n",
    "d1 = {'a': 1, 'b': 2}\n",
    "d2 = {'c': 3, 'd': 4}\n",
    "d1.update(d2)\n",
    "print(d1)"
   ]
  },
  {
   "cell_type": "code",
   "execution_count": 38,
   "id": "6f98a1d5-6b6d-4d28-b53d-78718e98642b",
   "metadata": {},
   "outputs": [
    {
     "data": {
      "text/plain": [
       "{'apple', 'banana', 'cherry'}"
      ]
     },
     "execution_count": 38,
     "metadata": {},
     "output_type": "execute_result"
    }
   ],
   "source": [
    "#30. Write a code to convert a list of strings into a set.\n",
    "l1 = [\"apple\", \"banana\", \"cherry\", \"apple\"]\n",
    "s1 = set()\n",
    "for i in l1:\n",
    "    s1.add(i)\n",
    "s1    "
   ]
  },
  {
   "cell_type": "code",
   "execution_count": null,
   "id": "10aa4411-4887-4263-9080-2f9f88dae430",
   "metadata": {},
   "outputs": [],
   "source": []
  }
 ],
 "metadata": {
  "kernelspec": {
   "display_name": "Python 3 (ipykernel)",
   "language": "python",
   "name": "python3"
  },
  "language_info": {
   "codemirror_mode": {
    "name": "ipython",
    "version": 3
   },
   "file_extension": ".py",
   "mimetype": "text/x-python",
   "name": "python",
   "nbconvert_exporter": "python",
   "pygments_lexer": "ipython3",
   "version": "3.13.5"
  }
 },
 "nbformat": 4,
 "nbformat_minor": 5
}
