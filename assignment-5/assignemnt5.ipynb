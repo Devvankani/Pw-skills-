{
 "cells": [
  {
   "cell_type": "code",
   "execution_count": 64,
   "id": "5c2c57d0-4352-4a30-8485-b865bee30fe2",
   "metadata": {},
   "outputs": [],
   "source": [
    "#1.  How can you open a file for writing in Python and write a string to it\n",
    "with open(\"sample.txt\",\"w\") as file:\n",
    "    file.writelines(\"This Is Testing String \\n another line\")"
   ]
  },
  {
   "cell_type": "code",
   "execution_count": 65,
   "id": "f5e57a36-3c7c-45cb-a878-c0ef6e9709e2",
   "metadata": {},
   "outputs": [
    {
     "name": "stdout",
     "output_type": "stream",
     "text": [
      "C:\\Users\\User\\pw-skills\\assignment-5\n"
     ]
    }
   ],
   "source": [
    "%cd C:\\Users\\User\\pw-skills\\assignment-5"
   ]
  },
  {
   "cell_type": "code",
   "execution_count": 66,
   "id": "850b0d6a-f4d6-46a5-9ebe-a9829f0aed85",
   "metadata": {},
   "outputs": [
    {
     "name": "stdout",
     "output_type": "stream",
     "text": [
      "This Is Testing String \n",
      " another line\n"
     ]
    }
   ],
   "source": [
    "#2.Write a Python program to read the contents of a file and print each line\n",
    "with open(\"sample.txt\",\"r\") as file:\n",
    "   f = file.read()\n",
    "   print(f)"
   ]
  },
  {
   "cell_type": "code",
   "execution_count": 67,
   "id": "3f963b7b-d8e8-4c34-ab06-7fe78e214b57",
   "metadata": {},
   "outputs": [
    {
     "name": "stdout",
     "output_type": "stream",
     "text": [
      "Error: The file does not exist.\n"
     ]
    }
   ],
   "source": [
    "#3.How would you handle a case where the file doesn't exist while trying to open it for reading\n",
    "try:\n",
    "    with open(\"abc.txt\", \"r\") as file:\n",
    "        contents = file.read()\n",
    "        print(contents)\n",
    "except FileNotFoundError:\n",
    "    print(\"Error: The file does not exist.\")\n"
   ]
  },
  {
   "cell_type": "code",
   "execution_count": 68,
   "id": "ded860e4-a591-4915-b68c-2d6b03042f97",
   "metadata": {},
   "outputs": [],
   "source": [
    "#4.Write a Python script that reads from one file and writes its content to another file\n",
    "\n",
    "with open(\"sample.txt\", \"r\") as src, open(\"output.txt\", \"w\") as dest:\n",
    "    for line in src:\n",
    "        dest.write(line)\n",
    "#check file to validate content "
   ]
  },
  {
   "cell_type": "code",
   "execution_count": 69,
   "id": "acb03cc2-2148-475b-b73b-7fecc2b0f449",
   "metadata": {},
   "outputs": [
    {
     "name": "stdin",
     "output_type": "stream",
     "text": [
      "Enter numerator:  69\n",
      "Enter denominator:  0\n"
     ]
    },
    {
     "name": "stdout",
     "output_type": "stream",
     "text": [
      "Error: Division by zero is not allowed.\n"
     ]
    }
   ],
   "source": [
    "#5.How would you catch and handle division by zero error in Python\n",
    "try:\n",
    "    a = int(input(\"Enter numerator: \"))\n",
    "    b = int(input(\"Enter denominator: \"))\n",
    "    result = a / b\n",
    "    print(\"Result:\", result)\n",
    "except ZeroDivisionError:\n",
    "    print(\"Error: Division by zero is not allowed.\")\n"
   ]
  },
  {
   "cell_type": "code",
   "execution_count": 70,
   "id": "1ecf22a9-5a23-4072-a0d9-4618721e8e1b",
   "metadata": {},
   "outputs": [
    {
     "name": "stdout",
     "output_type": "stream",
     "text": [
      "An error occurred. Check error.log for details.\n"
     ]
    }
   ],
   "source": [
    "#6. Write a Python program that logs an error message to\n",
    "#a log file when a division by zero exception occurs\n",
    "import logging\n",
    "\n",
    "# Configure logging\n",
    "logging.basicConfig(\n",
    "    filename=\"error.log\",          # log file name\n",
    "    level=logging.ERROR,           # log only ERROR and above\n",
    "    format=\"%(asctime)s - %(levelname)s - %(message)s\"\n",
    ")\n",
    "\n",
    "try:\n",
    "    a = 10\n",
    "    b = 0\n",
    "    result = a / b\n",
    "    print(\"Result:\", result)\n",
    "except ZeroDivisionError as e:\n",
    "    logging.error(\"Division by zero error occurred: %s\", e)\n",
    "    print(\"An error occurred. Check error.log for details.\")\n"
   ]
  },
  {
   "cell_type": "code",
   "execution_count": 71,
   "id": "9ce31779-b61d-44b8-b6d7-8250924cabf0",
   "metadata": {},
   "outputs": [],
   "source": [
    "#7.How do you log information at different levels (INFO, ERROR, WARNING) \n",
    "#in Python using the logging module\n",
    "import logging\n",
    "\n",
    "# Reset logging config\n",
    "for handler in logging.root.handlers[:]:\n",
    "    logging.root.removeHandler(handler)\n",
    "\n",
    "logging.basicConfig(\n",
    "    filename=\"app.log\",\n",
    "    level=logging.DEBUG,\n",
    "    format=\"%(asctime)s - %(levelname)s - %(message)s\"\n",
    ")\n",
    "\n",
    "logging.info(\"Now app.log should definitely be created!\")\n"
   ]
  },
  {
   "cell_type": "code",
   "execution_count": 72,
   "id": "3337c83d-8395-4e78-82b2-775df13c8a8d",
   "metadata": {},
   "outputs": [
    {
     "name": "stdout",
     "output_type": "stream",
     "text": [
      "This Is Testing String \n",
      " another line\n"
     ]
    }
   ],
   "source": [
    "#8. Write a program to handle a file opening error using exception handling\n",
    "filename = \"sample.txt\"   # file name\n",
    "\n",
    "try:\n",
    "    with open(filename, \"r\") as f:\n",
    "        contents = f.read()\n",
    "        print(contents)\n",
    "except FileNotFoundError:\n",
    "    print(f\"Error: The file '{filename}' does not exist.\")\n",
    "except PermissionError:\n",
    "    print(f\"Error: You don't have permission to open '{filename}'.\")\n",
    "except Exception as e:\n",
    "    print(f\"An unexpected error occurred: {e}\")"
   ]
  },
  {
   "cell_type": "code",
   "execution_count": 73,
   "id": "620a9f21-08e0-4a40-b095-caf77c994022",
   "metadata": {},
   "outputs": [
    {
     "name": "stdout",
     "output_type": "stream",
     "text": [
      "['This Is Testing String \\n', ' another line']\n"
     ]
    }
   ],
   "source": [
    "#9.How can you read a file line by line and store its content in a list in Python\n",
    "with open(\"sample.txt\", \"r\") as file:\n",
    "    lines = file.readlines()\n",
    "\n",
    "print(lines)"
   ]
  },
  {
   "cell_type": "code",
   "execution_count": 74,
   "id": "2a4dba51-5523-44de-8121-6ba70c3074f8",
   "metadata": {},
   "outputs": [],
   "source": [
    "#10. How can you append data to an existing file in Python\n",
    "# Open file in append mode and add text\n",
    "with open(\"sample.txt\", \"a\") as file:\n",
    "    file.writelines(\"This is a new line appended.\\n\")\n"
   ]
  },
  {
   "cell_type": "code",
   "execution_count": 75,
   "id": "c6a477a3-328c-4d68-a8d7-a7b1775b324e",
   "metadata": {},
   "outputs": [
    {
     "name": "stdout",
     "output_type": "stream",
     "text": [
      "Error: Key not found in dictionary\n"
     ]
    }
   ],
   "source": [
    "# 11. Write a Python program that uses a try-except block to handle an error \n",
    "#     when attempting to access a dictionary key that doesn't exist\n",
    "try:\n",
    "    my_dict = {\"name\": \"Alice\", \"age\": 25}\n",
    "    print(my_dict[\"city\"])  # Key does not exist\n",
    "except KeyError:\n",
    "    print(\"Error: Key not found in dictionary\")\n"
   ]
  },
  {
   "cell_type": "code",
   "execution_count": 76,
   "id": "4f3481ea-c8b5-484b-aa62-e2c573331347",
   "metadata": {},
   "outputs": [
    {
     "name": "stdout",
     "output_type": "stream",
     "text": [
      "Error: Invalid number conversion\n"
     ]
    }
   ],
   "source": [
    "# 12. Write a program that demonstrates using multiple except blocks \n",
    "#     to handle different types of exceptions\n",
    "try:\n",
    "    num = int(\"abc\")   # ValueError\n",
    "    result = 10 / 0    # ZeroDivisionError\n",
    "except ValueError:\n",
    "    print(\"Error: Invalid number conversion\")\n",
    "except ZeroDivisionError:\n",
    "    print(\"Error: Division by zero\")\n",
    "except Exception as e:\n",
    "    print(\"Other error:\", e)\n"
   ]
  },
  {
   "cell_type": "code",
   "execution_count": 77,
   "id": "f5163351-f222-4137-a4ba-dc28aa58d65d",
   "metadata": {},
   "outputs": [
    {
     "name": "stdout",
     "output_type": "stream",
     "text": [
      "This Is Testing String \n",
      " another lineThis is a new line appended.\n",
      "\n"
     ]
    }
   ],
   "source": [
    "# 13. How would you check if a file exists before attempting to read it in Python\n",
    "import os\n",
    "\n",
    "filename = \"sample.txt\"\n",
    "if os.path.exists(filename):\n",
    "    with open(filename, \"r\") as f:\n",
    "        print(f.read())\n",
    "else:\n",
    "    print(\"File does not exist\")\n"
   ]
  },
  {
   "cell_type": "code",
   "execution_count": 78,
   "id": "2fdb41e2-f3ad-4672-acbc-8de96d326104",
   "metadata": {},
   "outputs": [],
   "source": [
    "# 14. Write a program that uses the logging module to log both informational \n",
    "#     and error messages\n",
    "import logging\n",
    "\n",
    "logging.basicConfig(\n",
    "    filename=\"app.log\",\n",
    "    level=logging.DEBUG,\n",
    "    format=\"%(asctime)s - %(levelname)s - %(message)s\")\n",
    "\n",
    "logging.info(\"Program started successfully\")\n",
    "try:\n",
    "    x = 10 / 0\n",
    "except ZeroDivisionError as e:\n",
    "    logging.error(\"Error occurred: %s\", e)\n",
    "\n"
   ]
  },
  {
   "cell_type": "code",
   "execution_count": 79,
   "id": "b79bf982-d7dc-414b-a5ac-1e941b5fbbe5",
   "metadata": {},
   "outputs": [
    {
     "name": "stdout",
     "output_type": "stream",
     "text": [
      "This Is Testing String \n",
      " another lineThis is a new line appended.\n",
      "\n"
     ]
    }
   ],
   "source": [
    "# 15. Write a Python program that prints the content of a file and \n",
    "#     handles the case when the file is empty\n",
    "filename = \"sample.txt\"\n",
    "try:\n",
    "    with open(filename, \"r\") as f:\n",
    "        content = f.read()\n",
    "        if content:\n",
    "            print(content)\n",
    "        else:\n",
    "            print(\"File is empty\")\n",
    "except FileNotFoundError:\n",
    "    print(\"File not found\")\n"
   ]
  },
  {
   "cell_type": "code",
   "execution_count": 80,
   "id": "15669cc3-1217-4478-a9cf-ab94295e4536",
   "metadata": {},
   "outputs": [
    {
     "name": "stdout",
     "output_type": "stream",
     "text": [
      "Requirement already satisfied: memory_profiler in c:\\users\\user\\appdata\\local\\programs\\python\\python313\\lib\\site-packages (0.61.0)\n",
      "Requirement already satisfied: psutil in c:\\users\\user\\appdata\\local\\programs\\python\\python313\\lib\\site-packages (from memory_profiler) (7.0.0)\n"
     ]
    }
   ],
   "source": [
    "!pip install memory_profiler"
   ]
  },
  {
   "cell_type": "code",
   "execution_count": 81,
   "id": "b134b866-92f5-430d-a451-7cfab781002d",
   "metadata": {},
   "outputs": [
    {
     "name": "stdout",
     "output_type": "stream",
     "text": [
      "ERROR: Could not find file C:\\Users\\User\\AppData\\Local\\Temp\\ipykernel_11652\\594829749.py\n"
     ]
    }
   ],
   "source": [
    "# 16. Demonstrate how to use memory profiling to check the memory usage of a small program\n",
    "from memory_profiler import profile\n",
    "\n",
    "@profile\n",
    "def my_func():\n",
    "    nums = [i for i in range(10000)]  # some memory usage\n",
    "    return sum(nums)\n",
    "\n",
    "if __name__ == \"__main__\":\n",
    "    my_func()\n",
    "\n"
   ]
  },
  {
   "cell_type": "code",
   "execution_count": 82,
   "id": "a5b42922-0889-45f9-ae7c-50038e5512ab",
   "metadata": {},
   "outputs": [],
   "source": [
    "# 17. Write a Python program to create and write a list of numbers to a file, \n",
    "#     one number per line\n",
    "numbers = [1, 2, 3, 4, 5]\n",
    "with open(\"numbers.txt\", \"w\") as f:\n",
    "    for num in numbers:\n",
    "        f.write(str(num) + \"\\n\")"
   ]
  },
  {
   "cell_type": "code",
   "execution_count": 83,
   "id": "03529a77-cf09-43d7-bfea-fb480354dd7a",
   "metadata": {},
   "outputs": [],
   "source": [
    "# 18. How would you implement a basic logging setup that logs to a file \n",
    "#     with rotation after 1MB\n",
    "import logging\n",
    "from logging.handlers import RotatingFileHandler\n",
    "\n",
    "logger = logging.getLogger(\"RotatingLogger\")\n",
    "logger.setLevel(logging.INFO)\n",
    "\n",
    "handler = RotatingFileHandler(\"rotating.log\", maxBytes=1_000_000, backupCount=3)\n",
    "logger.addHandler(handler)\n",
    "\n",
    "logger.info(\"This is a test log message.\")\n"
   ]
  },
  {
   "cell_type": "code",
   "execution_count": 84,
   "id": "6360a3c6-be43-4df0-b55e-ef1235f9b18b",
   "metadata": {},
   "outputs": [
    {
     "name": "stdout",
     "output_type": "stream",
     "text": [
      "Error: Index out of range\n"
     ]
    }
   ],
   "source": [
    "# 19. Write a program that handles both IndexError and KeyError using a try-except block\n",
    "try:\n",
    "    my_list = [1, 2, 3]\n",
    "    print(my_list[5])  # IndexError\n",
    "    my_dict = {\"a\": 1}\n",
    "    print(my_dict[\"b\"])  # KeyError\n",
    "except IndexError:\n",
    "    print(\"Error: Index out of range\")\n",
    "except KeyError:\n",
    "    print(\"Error: Key not found\")\n"
   ]
  },
  {
   "cell_type": "code",
   "execution_count": 85,
   "id": "cd6246dc-3ebc-45c9-903d-0655f010c166",
   "metadata": {},
   "outputs": [
    {
     "name": "stdout",
     "output_type": "stream",
     "text": [
      "This Is Testing String\n",
      "another lineThis is a new line appended.\n"
     ]
    }
   ],
   "source": [
    "# 20. How would you open a file and read its contents using a context manager in Python\n",
    "with open(\"sample.txt\", \"r\") as f:\n",
    "    for line in f:\n",
    "        print(line.strip())\n",
    "\n"
   ]
  },
  {
   "cell_type": "code",
   "execution_count": 86,
   "id": "d29a895c-ce6c-49a2-b571-314e4d6b26f1",
   "metadata": {},
   "outputs": [
    {
     "name": "stdout",
     "output_type": "stream",
     "text": [
      "The word 'Python' occurred 0 times.\n"
     ]
    }
   ],
   "source": [
    "# 21. Write a Python program that reads a file and prints the number of \n",
    "#     occurrences of a specific word\n",
    "word = \"Python\"\n",
    "count = 0\n",
    "with open(\"sample.txt\", \"r\") as f:\n",
    "    for line in f:\n",
    "        count += line.split().count(word)\n",
    "print(f\"The word '{word}' occurred {count} times.\")\n"
   ]
  },
  {
   "cell_type": "code",
   "execution_count": 87,
   "id": "abd0b6b1-7933-4f53-a135-9afbecc65981",
   "metadata": {},
   "outputs": [
    {
     "name": "stdout",
     "output_type": "stream",
     "text": [
      "This Is Testing String \n",
      " another lineThis is a new line appended.\n",
      "\n"
     ]
    }
   ],
   "source": [
    "# 22. How can you check if a file is empty before attempting to read its contents\n",
    "import os\n",
    "\n",
    "filename = \"sample.txt\"\n",
    "if os.path.exists(filename) and os.path.getsize(filename) > 0:\n",
    "    with open(filename, \"r\") as f:\n",
    "        print(f.read())\n",
    "else:\n",
    "    print(\"File is empty or does not exist\")\n",
    "\n"
   ]
  },
  {
   "cell_type": "code",
   "execution_count": 88,
   "id": "c88f185a-95cf-4b18-9fe9-a5c5c92fd4b7",
   "metadata": {},
   "outputs": [
    {
     "name": "stdout",
     "output_type": "stream",
     "text": [
      "An error occurred. Check file_error.log for details.\n"
     ]
    }
   ],
   "source": [
    "# 23. Write a Python program that writes to a log file when an error occurs during file handling\n",
    "import logging\n",
    "\n",
    "logging.basicConfig(\n",
    "    filename=\"file_error.log\",\n",
    "    level=logging.ERROR,\n",
    "    format=\"%(asctime)s - %(levelname)s - %(message)s\"\n",
    ")\n",
    "\n",
    "try:\n",
    "    with open(\"not_exist.txt\", \"r\") as f:\n",
    "        data = f.read()\n",
    "except Exception as e:\n",
    "    logging.error(\"File handling error: %s\", e)\n",
    "    print(\"An error occurred. Check file_error.log for details.\")"
   ]
  },
  {
   "cell_type": "code",
   "execution_count": null,
   "id": "940b38f5-824d-4d13-95d2-ed079cb6cb9c",
   "metadata": {},
   "outputs": [],
   "source": []
  }
 ],
 "metadata": {
  "kernelspec": {
   "display_name": "Python 3 (ipykernel)",
   "language": "python",
   "name": "python3"
  },
  "language_info": {
   "codemirror_mode": {
    "name": "ipython",
    "version": 3
   },
   "file_extension": ".py",
   "mimetype": "text/x-python",
   "name": "python",
   "nbconvert_exporter": "python",
   "pygments_lexer": "ipython3",
   "version": "3.13.5"
  }
 },
 "nbformat": 4,
 "nbformat_minor": 5
}
