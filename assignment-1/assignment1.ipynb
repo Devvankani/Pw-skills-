{
 "cells": [
  {
   "cell_type": "code",
   "execution_count": 3,
   "id": "3272f1ba-cfbf-429c-ac79-1a812a135968",
   "metadata": {},
   "outputs": [
    {
     "name": "stdout",
     "output_type": "stream",
     "text": [
      "Hello,World!\n"
     ]
    }
   ],
   "source": [
    "#1.Write a Python program to print \"Hello, World!\"\n",
    "print(\"Hello,World!\")"
   ]
  },
  {
   "cell_type": "code",
   "execution_count": 6,
   "id": "d61abf55-cef3-4fb0-9245-01770c8235b2",
   "metadata": {},
   "outputs": [
    {
     "name": "stdin",
     "output_type": "stream",
     "text": [
      " Dev\n",
      " 21\n"
     ]
    },
    {
     "name": "stdout",
     "output_type": "stream",
     "text": [
      "My Name is :  Dev\n",
      "My age is :  21\n"
     ]
    }
   ],
   "source": [
    "#2.Write a Python program that displays your name and age\n",
    "name = input()\n",
    "age = int(input())\n",
    "print(\"My Name is : \",name)\n",
    "print(\"My age is : \",age)"
   ]
  },
  {
   "cell_type": "code",
   "execution_count": 12,
   "id": "d5b54aab-0025-4d23-b251-5f763aed7c64",
   "metadata": {},
   "outputs": [
    {
     "name": "stdout",
     "output_type": "stream",
     "text": [
      "The list of keywords is : \n",
      "['False', 'None', 'True', 'and', 'as', 'assert', 'async', 'await', 'break', 'class', 'continue', 'def', 'del', 'elif', 'else', 'except', 'finally', 'for', 'from', 'global', 'if', 'import', 'in', 'is', 'lambda', 'nonlocal', 'not', 'or', 'pass', 'raise', 'return', 'try', 'while', 'with', 'yield']\n"
     ]
    }
   ],
   "source": [
    "#3.Write code to print all the pre-defined keywords in Python using the keyword library\n",
    "import keyword\n",
    "print(\"The list of keywords is : \")\n",
    "print(keyword.kwlist)"
   ]
  },
  {
   "cell_type": "code",
   "execution_count": 21,
   "id": "78c89b5b-cd4a-4abc-945d-924f4822e45c",
   "metadata": {},
   "outputs": [
    {
     "name": "stdin",
     "output_type": "stream",
     "text": [
      "Enter word to check if it's keyword or not :  as\n"
     ]
    },
    {
     "name": "stdout",
     "output_type": "stream",
     "text": [
      "as is Python Keyword\n"
     ]
    }
   ],
   "source": [
    "#4.Write a program that checks if a given word is a Python keyword.\n",
    "import keyword\n",
    "uinput = input(\"Enter word to check if it's keyword or not : \")\n",
    "if uinput in keyword.kwlist:\n",
    "    print(f\"{uinput} is Python Keyword\")\n",
    "else:\n",
    "    print(f\"{uinput} is not an Python Keyword\")"
   ]
  },
  {
   "cell_type": "code",
   "execution_count": 27,
   "id": "0313e2cf-e33d-4836-ace5-0daf69929850",
   "metadata": {},
   "outputs": [
    {
     "name": "stdout",
     "output_type": "stream",
     "text": [
      "Before list  [1, 20, 30, 40, 'Dev', 'Pw', True]\n",
      "After list  [10, 20, 30, 40, 'Dev', 'Pw', True]\n"
     ]
    },
    {
     "ename": "TypeError",
     "evalue": "'tuple' object does not support item assignment",
     "output_type": "error",
     "traceback": [
      "\u001b[31m---------------------------------------------------------------------------\u001b[39m",
      "\u001b[31mTypeError\u001b[39m                                 Traceback (most recent call last)",
      "\u001b[36mCell\u001b[39m\u001b[36m \u001b[39m\u001b[32mIn[27]\u001b[39m\u001b[32m, line 9\u001b[39m\n\u001b[32m      6\u001b[39m l1[\u001b[32m0\u001b[39m]=\u001b[32m10\u001b[39m\n\u001b[32m      7\u001b[39m \u001b[38;5;28mprint\u001b[39m(\u001b[33m\"\u001b[39m\u001b[33mAfter list \u001b[39m\u001b[33m\"\u001b[39m,l1)\n\u001b[32m----> \u001b[39m\u001b[32m9\u001b[39m \u001b[43mt1\u001b[49m\u001b[43m[\u001b[49m\u001b[32;43m0\u001b[39;49m\u001b[43m]\u001b[49m=\u001b[32m10\u001b[39m\n",
      "\u001b[31mTypeError\u001b[39m: 'tuple' object does not support item assignment"
     ]
    }
   ],
   "source": [
    "#5. Create a list and tuple in Python, and demonstrate how attempting to change an element works differently for each.\n",
    "l1 = [1,20,30,40,\"Dev\",\"Pw\",True] # list editable \n",
    "t1 = (1,2,3,4,5)  # tuple which we can't edit \n",
    "\n",
    "print(\"Before list \",l1)\n",
    "l1[0]=10\n",
    "print(\"After list \",l1)\n",
    "\n",
    "t1[0]=10  #immutable  we can't make any change in tuple "
   ]
  },
  {
   "cell_type": "code",
   "execution_count": 30,
   "id": "940ec2dd-cbff-43e2-bfda-89a1781851e1",
   "metadata": {},
   "outputs": [
    {
     "name": "stdout",
     "output_type": "stream",
     "text": [
      "Before modification list  [0, 20, 30, 40, 50]\n",
      "After modification list  [10, 20, 30, 40, 50, 'Pwskils']\n"
     ]
    }
   ],
   "source": [
    "#6.Write a function to demonstrate the behavior of mutable and immutable arguments\n",
    "def mutable(li1):\n",
    "    li1[0] = 10\n",
    "    li1.append(\"Pwskils\")\n",
    "    print(\"After modification list \",li1)\n",
    "\n",
    "\n",
    "l1 = [0,20,30,40,50]\n",
    "print(\"Before modification list \",l1)\n",
    "mutable(l1)"
   ]
  },
  {
   "cell_type": "code",
   "execution_count": 31,
   "id": "3629505c-02eb-4033-bfc9-fc134fba3dcc",
   "metadata": {},
   "outputs": [
    {
     "name": "stdout",
     "output_type": "stream",
     "text": [
      "Before modification tuple  (0, 20, 30, 40, 50)\n"
     ]
    },
    {
     "ename": "TypeError",
     "evalue": "'tuple' object does not support item assignment",
     "output_type": "error",
     "traceback": [
      "\u001b[31m---------------------------------------------------------------------------\u001b[39m",
      "\u001b[31mTypeError\u001b[39m                                 Traceback (most recent call last)",
      "\u001b[36mCell\u001b[39m\u001b[36m \u001b[39m\u001b[32mIn[31]\u001b[39m\u001b[32m, line 9\u001b[39m\n\u001b[32m      7\u001b[39m t1 = (\u001b[32m0\u001b[39m,\u001b[32m20\u001b[39m,\u001b[32m30\u001b[39m,\u001b[32m40\u001b[39m,\u001b[32m50\u001b[39m)\n\u001b[32m      8\u001b[39m \u001b[38;5;28mprint\u001b[39m(\u001b[33m\"\u001b[39m\u001b[33mBefore modification tuple \u001b[39m\u001b[33m\"\u001b[39m,t1)\n\u001b[32m----> \u001b[39m\u001b[32m9\u001b[39m \u001b[43minmutable\u001b[49m\u001b[43m(\u001b[49m\u001b[43mt1\u001b[49m\u001b[43m)\u001b[49m\n",
      "\u001b[36mCell\u001b[39m\u001b[36m \u001b[39m\u001b[32mIn[31]\u001b[39m\u001b[32m, line 2\u001b[39m, in \u001b[36minmutable\u001b[39m\u001b[34m(ti1)\u001b[39m\n\u001b[32m      1\u001b[39m \u001b[38;5;28;01mdef\u001b[39;00m\u001b[38;5;250m \u001b[39m\u001b[34minmutable\u001b[39m(ti1):\n\u001b[32m----> \u001b[39m\u001b[32m2\u001b[39m     \u001b[43mti1\u001b[49m\u001b[43m[\u001b[49m\u001b[32;43m0\u001b[39;49m\u001b[43m]\u001b[49m = \u001b[32m10\u001b[39m\n\u001b[32m      3\u001b[39m     ti1.append(\u001b[33m\"\u001b[39m\u001b[33mPwskils\u001b[39m\u001b[33m\"\u001b[39m)\n\u001b[32m      4\u001b[39m     \u001b[38;5;28mprint\u001b[39m(\u001b[33m\"\u001b[39m\u001b[33mAfter modification tuple \u001b[39m\u001b[33m\"\u001b[39m,ti1)\n",
      "\u001b[31mTypeError\u001b[39m: 'tuple' object does not support item assignment"
     ]
    }
   ],
   "source": [
    "def inmutable(ti1):\n",
    "    ti1[0] = 10\n",
    "    ti1.append(\"Pwskils\")\n",
    "    print(\"After modification tuple \",ti1)\n",
    "\n",
    "\n",
    "t1 = (0,20,30,40,50)\n",
    "print(\"Before modification tuple \",t1)\n",
    "inmutable(t1)"
   ]
  },
  {
   "cell_type": "code",
   "execution_count": 32,
   "id": "709537f4-9dcc-4119-b492-44a334ca9afc",
   "metadata": {},
   "outputs": [
    {
     "name": "stdin",
     "output_type": "stream",
     "text": [
      "Enter Number 1 :  50\n",
      "Enter Number 2 :  5\n"
     ]
    },
    {
     "name": "stdout",
     "output_type": "stream",
     "text": [
      "Addition is : 55\n",
      "subtraction is : 45\n",
      "multiplication is : 250\n",
      "division is : 10.0\n",
      "floor value is : 10\n",
      "modulus : 0\n"
     ]
    }
   ],
   "source": [
    "#7.Write a program that performs basic arithmetic operations on two user-input numbers.\n",
    "\n",
    "num1 = int(input(\"Enter Number 1 : \"))\n",
    "num2 = int(input(\"Enter Number 2 : \"))\n",
    "\n",
    "print(\"Addition is :\",num1+num2)\n",
    "print(\"subtraction is :\",num1-num2)\n",
    "print(\"multiplication is :\",num1*num2)\n",
    "print(\"division is :\",num1/num2)\n",
    "print(\"floor value is :\",num1//num2) # while dividing give int value like 3.5 = 3\n",
    "print(\"modulus :\",num1%num2)  # while dividing give reminder value"
   ]
  },
  {
   "cell_type": "code",
   "execution_count": 37,
   "id": "2e67aeb4-a278-41da-a097-1bf5e7e72aee",
   "metadata": {},
   "outputs": [
    {
     "name": "stdin",
     "output_type": "stream",
     "text": [
      "Enter your age:  14\n",
      "Do you have an ID? (yes/no):  yes\n"
     ]
    },
    {
     "name": "stdout",
     "output_type": "stream",
     "text": [
      "Access denied.\n",
      "Warning: Either you are underage or have no ID.\n"
     ]
    }
   ],
   "source": [
    "#8.Write a program to demonstrate the use of logical operators. means and or not\n",
    "age = int(input(\"Enter your age: \"))\n",
    "adhar_id = input(\"Do you have an ID? (yes/no): \").lower()\n",
    "\n",
    "# AND\n",
    "if age >= 18 and adhar_id == \"yes\":\n",
    "    print(\"You are allowed to enter in club.\")\n",
    "else:\n",
    "    print(\"Access denied.\")\n",
    "\n",
    "# OR\n",
    "if age < 18 or adhar_id == \"no\":\n",
    "    print(\"Warning: Either you are underage or have no ID.\")\n",
    "else:\n",
    "    print(\"You're good to go.\")\n",
    "\n",
    "# NOT\n",
    "if not adhar_id == \"yes\":\n",
    "    print(\"ID is required.\")\n"
   ]
  },
  {
   "cell_type": "code",
   "execution_count": 43,
   "id": "781aa3fd-f3ec-4f2a-a826-a15d3e2a13a1",
   "metadata": {},
   "outputs": [
    {
     "name": "stdin",
     "output_type": "stream",
     "text": [
      "Enter String :  45\n"
     ]
    },
    {
     "name": "stdout",
     "output_type": "stream",
     "text": [
      "<class 'str'> Converted to <class 'int'> Value is 45 \n"
     ]
    },
    {
     "name": "stdin",
     "output_type": "stream",
     "text": [
      "Enter String :  45.55\n"
     ]
    },
    {
     "name": "stdout",
     "output_type": "stream",
     "text": [
      "<class 'str'> Converted to <class 'float'> Value is 45.55 \n"
     ]
    },
    {
     "name": "stdin",
     "output_type": "stream",
     "text": [
      "Enter String :  True\n"
     ]
    },
    {
     "name": "stdout",
     "output_type": "stream",
     "text": [
      "<class 'str'> Converted to <class 'bool'> Value is True \n"
     ]
    }
   ],
   "source": [
    "#9.Write a Python program to convert user input from string to integer, float, and boolean types.\n",
    "\n",
    "uint = input(\"Enter String : \")\n",
    "print(f\"{type(uint)} Converted to {type(int(uint))} Value is {int(uint)} \")\n",
    "\n",
    "ufl = input(\"Enter String : \")\n",
    "print(f\"{type(ufl)} Converted to {type(float(ufl))} Value is {float(ufl)} \")\n",
    "\n",
    "ub = input(\"Enter String : \")\n",
    "print(f\"{type(ub)} Converted to {type(bool(ub))} Value is {bool(ub)} \")"
   ]
  },
  {
   "cell_type": "code",
   "execution_count": 45,
   "id": "86ef2c60-1709-4844-8efd-4bd5df764af3",
   "metadata": {},
   "outputs": [
    {
     "name": "stdout",
     "output_type": "stream",
     "text": [
      "Original list (strings): ['10', '20', '30', '40']\n",
      "List after converting to integers: [10, 20, 30, 40]\n"
     ]
    }
   ],
   "source": [
    "#10.Write code to demonstrate type casting with list elements.\n",
    "strli = ['10', '20', '30', '40']\n",
    "\n",
    "print(\"Original list (strings):\", strli)\n",
    "\n",
    "# Convert string to integer\n",
    "intli = []\n",
    "for item in strli:\n",
    "    intli.append(int(item))\n",
    "\n",
    "print(\"List after converting to integers:\", intli)\n",
    "\n",
    "# # Example of doing arithmetic after casting\n",
    "# sum_values = sum(int_list)\n",
    "# print(\"Sum of integer list:\", sum_values)\n"
   ]
  },
  {
   "cell_type": "code",
   "execution_count": 11,
   "id": "bf204649-5878-49e2-85a1-e1e74b0b13fa",
   "metadata": {},
   "outputs": [
    {
     "name": "stdin",
     "output_type": "stream",
     "text": [
      "Enter Number : -0\n"
     ]
    },
    {
     "name": "stdout",
     "output_type": "stream",
     "text": [
      "Number is zero\n"
     ]
    }
   ],
   "source": [
    "#11.Write a program that checks if a number is positive, negative, or zero.\n",
    "num1 = int(input(\"Enter Number :\"))\n",
    "if num1>1:\n",
    "    print(\"Number is Positive\")\n",
    "elif num1<1 and num1!=0:\n",
    "    print(\"Number is Negative\")\n",
    "elif num1==0:\n",
    "    print(\"Number is zero\")\n",
    "    "
   ]
  },
  {
   "cell_type": "code",
   "execution_count": 12,
   "id": "72f7fe28-a0b0-43f5-9da8-9f6e40529478",
   "metadata": {},
   "outputs": [
    {
     "name": "stdout",
     "output_type": "stream",
     "text": [
      "1\n",
      "2\n",
      "3\n",
      "4\n",
      "5\n",
      "6\n",
      "7\n",
      "8\n",
      "9\n",
      "10\n"
     ]
    }
   ],
   "source": [
    "#12. Write a for loop to print numbers from 1 to 10\n",
    "for i in range(1,11):\n",
    "    print(i)"
   ]
  },
  {
   "cell_type": "code",
   "execution_count": 15,
   "id": "79321e0b-0478-4ad4-a09f-63e4008160a5",
   "metadata": {},
   "outputs": [
    {
     "name": "stdout",
     "output_type": "stream",
     "text": [
      "1275\n"
     ]
    }
   ],
   "source": [
    "#13. Write a Python program to find the sum of all even numbers between 1 and 50.\n",
    "sum=0\n",
    "for i in range(1,51):\n",
    "    sum=sum+i\n",
    "print(sum)   "
   ]
  },
  {
   "cell_type": "code",
   "execution_count": 7,
   "id": "2a190033-c074-4da3-aed3-d42314e01155",
   "metadata": {},
   "outputs": [
    {
     "name": "stdin",
     "output_type": "stream",
     "text": [
      "Enter String :  dev\n"
     ]
    },
    {
     "name": "stdout",
     "output_type": "stream",
     "text": [
      "v\n",
      "e\n",
      "d\n"
     ]
    }
   ],
   "source": [
    "#14. Write a program to reverse a string using a while loop.\n",
    "str1 = input(\"Enter String : \")\n",
    "index = len(str1)-1\n",
    "i=0\n",
    "while  i <= index:\n",
    "    print(str1[index])\n",
    "    index -=1\n",
    "    \n",
    "    "
   ]
  },
  {
   "cell_type": "code",
   "execution_count": 11,
   "id": "9857b2a6-e717-4f03-be6a-dce1232606ca",
   "metadata": {},
   "outputs": [
    {
     "name": "stdin",
     "output_type": "stream",
     "text": [
      "Enter Number :  5\n"
     ]
    },
    {
     "name": "stdout",
     "output_type": "stream",
     "text": [
      "1\n",
      "2\n",
      "6\n",
      "24\n",
      "120\n"
     ]
    }
   ],
   "source": [
    "#15. Write a Python program to calculate the factorial of a number provided by the user using a while loop.\n",
    "num1 = int(input(\"Enter Number : \"))\n",
    "i=1\n",
    "fact=1\n",
    "while i<=num1:\n",
    "    fact *=i\n",
    "    i= i+1\n",
    "    print(fact)\n",
    "    "
   ]
  },
  {
   "cell_type": "code",
   "execution_count": null,
   "id": "e775c8a3-b7c5-4cca-9468-984b368bd53e",
   "metadata": {},
   "outputs": [],
   "source": []
  }
 ],
 "metadata": {
  "kernelspec": {
   "display_name": "Python 3 (ipykernel)",
   "language": "python",
   "name": "python3"
  },
  "language_info": {
   "codemirror_mode": {
    "name": "ipython",
    "version": 3
   },
   "file_extension": ".py",
   "mimetype": "text/x-python",
   "name": "python",
   "nbconvert_exporter": "python",
   "pygments_lexer": "ipython3",
   "version": "3.13.5"
  }
 },
 "nbformat": 4,
 "nbformat_minor": 5
}
